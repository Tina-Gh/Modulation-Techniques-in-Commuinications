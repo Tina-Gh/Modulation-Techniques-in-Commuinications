{
 "cells": [
  {
   "cell_type": "code",
   "execution_count": null,
   "metadata": {},
   "outputs": [],
   "source": []
  },
  {
   "cell_type": "code",
   "execution_count": null,
   "metadata": {},
   "outputs": [],
   "source": []
  },
  {
   "cell_type": "markdown",
   "metadata": {},
   "source": [
    "#### Import libraries"
   ]
  },
  {
   "cell_type": "code",
   "execution_count": 1,
   "metadata": {},
   "outputs": [],
   "source": [
    "import numpy as np\n",
    "import pandas as pd\n",
    "import tensorflow as tf\n",
    "import matplotlib.pyplot as plt\n",
    "%matplotlib inline"
   ]
  },
  {
   "cell_type": "markdown",
   "metadata": {},
   "source": [
    "#### Random seeds for global minimum"
   ]
  },
  {
   "cell_type": "code",
   "execution_count": 2,
   "metadata": {},
   "outputs": [],
   "source": [
    "np.random.seed(1)"
   ]
  },
  {
   "cell_type": "code",
   "execution_count": 3,
   "metadata": {},
   "outputs": [],
   "source": [
    "tf.set_random_seed(3)"
   ]
  },
  {
   "cell_type": "markdown",
   "metadata": {},
   "source": [
    "#### Constants and parameters"
   ]
  },
  {
   "cell_type": "code",
   "execution_count": 4,
   "metadata": {},
   "outputs": [],
   "source": [
    "M = 32 #number of messages\n",
    "k = np.log2(M) #number of classes\n",
    "n_channel = 1\n",
    "R = k / n_channel #Bit Rate\n",
    "Pa = 2 #input power where E[|x|^2] <= Pa\n",
    "\n",
    "# EbN0 =  #SNR\n",
    "# ...\n",
    "\n",
    "EbNo = 10 ** (7/10)\n",
    "noise_std = np.sqrt(1 / (2 * R * EbNo))\n",
    "num_taps = 1\n",
    "reyleigh_std = num_taps / np.sqrt(2)"
   ]
  },
  {
   "cell_type": "markdown",
   "metadata": {},
   "source": [
    "#### Generating data"
   ]
  },
  {
   "cell_type": "code",
   "execution_count": 5,
   "metadata": {},
   "outputs": [],
   "source": [
    "#Train data:\n",
    "\n",
    "N = 100000 #size\n",
    "data = np.random.randint(M, size = N) #from 0 t0 M-1"
   ]
  },
  {
   "cell_type": "code",
   "execution_count": 6,
   "metadata": {},
   "outputs": [
    {
     "data": {
      "text/plain": [
       "array([ 5, 11, 12, ..., 16,  0,  2])"
      ]
     },
     "execution_count": 6,
     "metadata": {},
     "output_type": "execute_result"
    }
   ],
   "source": [
    "data"
   ]
  },
  {
   "cell_type": "markdown",
   "metadata": {},
   "source": [
    "#### One-hot vector"
   ]
  },
  {
   "cell_type": "code",
   "execution_count": 7,
   "metadata": {},
   "outputs": [],
   "source": [
    "data_one = []\n",
    "for i in data:\n",
    "    vec = np.zeros(M)\n",
    "    vec[i] = 1\n",
    "    data_one.append(vec)\n",
    "    \n",
    "data_one = np.array(data_one)"
   ]
  },
  {
   "cell_type": "code",
   "execution_count": 8,
   "metadata": {},
   "outputs": [
    {
     "data": {
      "text/plain": [
       "(100000, 32)"
      ]
     },
     "execution_count": 8,
     "metadata": {},
     "output_type": "execute_result"
    }
   ],
   "source": [
    "data_one.shape"
   ]
  },
  {
   "cell_type": "code",
   "execution_count": 9,
   "metadata": {},
   "outputs": [
    {
     "data": {
      "text/plain": [
       "array([[0., 0., 0., ..., 0., 0., 0.],\n",
       "       [0., 0., 0., ..., 0., 0., 0.],\n",
       "       [0., 0., 0., ..., 0., 0., 0.],\n",
       "       ...,\n",
       "       [0., 0., 0., ..., 0., 0., 0.],\n",
       "       [1., 0., 0., ..., 0., 0., 0.],\n",
       "       [0., 0., 1., ..., 0., 0., 0.]])"
      ]
     },
     "execution_count": 9,
     "metadata": {},
     "output_type": "execute_result"
    }
   ],
   "source": [
    "data_one"
   ]
  },
  {
   "cell_type": "code",
   "execution_count": 10,
   "metadata": {},
   "outputs": [],
   "source": [
    "#Test data:\n",
    "\n",
    "N_test = 100000\n",
    "data_test = np.random.randint(M, size = N_test)\n",
    "\n",
    "data_test_one = []\n",
    "for i in data_test:\n",
    "    vec = np.zeros(M)\n",
    "    vec[i] = 1\n",
    "    data_test_one.append(vec)\n",
    "    \n",
    "data_test_one = np.array(data_test_one)"
   ]
  },
  {
   "cell_type": "markdown",
   "metadata": {},
   "source": [
    "#### NN and so"
   ]
  },
  {
   "cell_type": "code",
   "execution_count": 11,
   "metadata": {},
   "outputs": [
    {
     "name": "stdout",
     "output_type": "stream",
     "text": [
      "WARNING:tensorflow:From c:\\users\\nasa\\anaconda3\\envs\\mytfenv\\lib\\site-packages\\tensorflow_core\\python\\ops\\resource_variable_ops.py:1630: calling BaseResourceVariable.__init__ (from tensorflow.python.ops.resource_variable_ops) with constraint is deprecated and will be removed in a future version.\n",
      "Instructions for updating:\n",
      "If using Keras pass *_constraint arguments to layers.\n"
     ]
    }
   ],
   "source": [
    "#Transmitter NN (encoder)+ Normalization:\n",
    "\n",
    "from tensorflow.keras.layers import Input, Dense, GaussianNoise, Lambda, Dropout, Concatenate, BatchNormalization\n",
    "from tensorflow.keras.models import Model\n",
    "from tensorflow.keras.optimizers import Adam, SGD\n",
    "import tensorflow.keras.backend as be\n",
    "\n",
    "input_sig = Input(shape = (M, ))\n",
    "encoder1 = Dense(M, activation = 'relu')(input_sig)\n",
    "encoder2 = Dense(2 * n_channel, activation = 'linear')(encoder1) #inphase & quadrature\n",
    "encoder3 = BatchNormalization()(encoder2)\n",
    "encoder4 = Lambda(lambda x: Pa / np.sqrt(2) * be.l2_normalize(x, axis = -1))(encoder3)"
   ]
  },
  {
   "cell_type": "code",
   "execution_count": 12,
   "metadata": {},
   "outputs": [],
   "source": [
    "#Noisy channel:\n",
    "\n",
    "channel1 = GaussianNoise(np.sqrt(1 / (2 * R * EbNo)))(encoder4)\n",
    "# channel1 = GaussianNoise(np.sqrt(1 / (2 * R * EbNo)))(encoder2)"
   ]
  },
  {
   "cell_type": "code",
   "execution_count": 13,
   "metadata": {},
   "outputs": [],
   "source": [
    "#Receiver NN (decoder):\n",
    "\n",
    "decoder1 = Dense(M, activation = 'relu')(channel1)\n",
    "decoder2 = Dense(M, activation = 'softmax')(decoder1) #multi-class\n",
    "autoencoder = Model(input_sig, decoder2)\n",
    "adam = Adam(lr = 0.01)\n",
    "autoencoder.compile(optimizer = adam, loss = 'categorical_crossentropy') #SGD"
   ]
  },
  {
   "cell_type": "code",
   "execution_count": 14,
   "metadata": {},
   "outputs": [
    {
     "name": "stdout",
     "output_type": "stream",
     "text": [
      "Model: \"model\"\n",
      "_________________________________________________________________\n",
      "Layer (type)                 Output Shape              Param #   \n",
      "=================================================================\n",
      "input_1 (InputLayer)         [(None, 32)]              0         \n",
      "_________________________________________________________________\n",
      "dense (Dense)                (None, 32)                1056      \n",
      "_________________________________________________________________\n",
      "dense_1 (Dense)              (None, 2)                 66        \n",
      "_________________________________________________________________\n",
      "batch_normalization (BatchNo (None, 2)                 8         \n",
      "_________________________________________________________________\n",
      "lambda (Lambda)              (None, 2)                 0         \n",
      "_________________________________________________________________\n",
      "gaussian_noise (GaussianNois (None, 2)                 0         \n",
      "_________________________________________________________________\n",
      "dense_2 (Dense)              (None, 32)                96        \n",
      "_________________________________________________________________\n",
      "dense_3 (Dense)              (None, 32)                1056      \n",
      "=================================================================\n",
      "Total params: 2,282\n",
      "Trainable params: 2,278\n",
      "Non-trainable params: 4\n",
      "_________________________________________________________________\n"
     ]
    }
   ],
   "source": [
    "#The summary of the model:\n",
    "\n",
    "autoencoder.summary()"
   ]
  },
  {
   "cell_type": "code",
   "execution_count": 15,
   "metadata": {},
   "outputs": [
    {
     "name": "stdout",
     "output_type": "stream",
     "text": [
      "WARNING:tensorflow:From c:\\users\\nasa\\anaconda3\\envs\\mytfenv\\lib\\site-packages\\tensorflow_core\\python\\ops\\math_grad.py:1424: where (from tensorflow.python.ops.array_ops) is deprecated and will be removed in a future version.\n",
      "Instructions for updating:\n",
      "Use tf.where in 2.0, which has the same broadcast rule as np.where\n",
      "Train on 100000 samples\n",
      "Epoch 1/50\n",
      "100000/100000 [==============================] - 1s 10us/sample - loss: 1.8175\n",
      "Epoch 2/50\n",
      "100000/100000 [==============================] - 0s 5us/sample - loss: 1.0687\n",
      "Epoch 3/50\n",
      "100000/100000 [==============================] - 1s 5us/sample - loss: 0.9103\n",
      "Epoch 4/50\n",
      "100000/100000 [==============================] - 1s 5us/sample - loss: 0.8655\n",
      "Epoch 5/50\n",
      "100000/100000 [==============================] - 1s 5us/sample - loss: 0.8277\n",
      "Epoch 6/50\n",
      "100000/100000 [==============================] - 1s 5us/sample - loss: 0.8281\n",
      "Epoch 7/50\n",
      "100000/100000 [==============================] - 1s 5us/sample - loss: 0.8157\n",
      "Epoch 8/50\n",
      "100000/100000 [==============================] - 1s 6us/sample - loss: 0.8219\n",
      "Epoch 9/50\n",
      "100000/100000 [==============================] - 1s 7us/sample - loss: 0.8195\n",
      "Epoch 10/50\n",
      "100000/100000 [==============================] - 1s 6us/sample - loss: 0.8104\n",
      "Epoch 11/50\n",
      "100000/100000 [==============================] - 1s 5us/sample - loss: 0.8045\n",
      "Epoch 12/50\n",
      "100000/100000 [==============================] - 1s 8us/sample - loss: 0.8005\n",
      "Epoch 13/50\n",
      "100000/100000 [==============================] - 1s 5us/sample - loss: 0.8009\n",
      "Epoch 14/50\n",
      "100000/100000 [==============================] - 1s 5us/sample - loss: 0.8151\n",
      "Epoch 15/50\n",
      "100000/100000 [==============================] - 1s 5us/sample - loss: 0.8061\n",
      "Epoch 16/50\n",
      "100000/100000 [==============================] - 1s 5us/sample - loss: 0.8092\n",
      "Epoch 17/50\n",
      "100000/100000 [==============================] - 1s 6us/sample - loss: 0.8084\n",
      "Epoch 18/50\n",
      "100000/100000 [==============================] - 1s 5us/sample - loss: 0.8103\n",
      "Epoch 19/50\n",
      "100000/100000 [==============================] - 1s 5us/sample - loss: 0.8118\n",
      "Epoch 20/50\n",
      "100000/100000 [==============================] - 1s 5us/sample - loss: 0.7950\n",
      "Epoch 21/50\n",
      "100000/100000 [==============================] - 1s 5us/sample - loss: 0.7983\n",
      "Epoch 22/50\n",
      "100000/100000 [==============================] - 0s 5us/sample - loss: 0.7944\n",
      "Epoch 23/50\n",
      "100000/100000 [==============================] - 1s 5us/sample - loss: 0.8003\n",
      "Epoch 24/50\n",
      "100000/100000 [==============================] - 0s 5us/sample - loss: 0.7991\n",
      "Epoch 25/50\n",
      "100000/100000 [==============================] - 0s 5us/sample - loss: 0.7982\n",
      "Epoch 26/50\n",
      "100000/100000 [==============================] - 1s 6us/sample - loss: 0.8045\n",
      "Epoch 27/50\n",
      "100000/100000 [==============================] - 1s 8us/sample - loss: 0.7988\n",
      "Epoch 28/50\n",
      "100000/100000 [==============================] - 1s 8us/sample - loss: 0.7911\n",
      "Epoch 29/50\n",
      "100000/100000 [==============================] - 1s 6us/sample - loss: 0.7927\n",
      "Epoch 30/50\n",
      "100000/100000 [==============================] - 1s 5us/sample - loss: 0.7931\n",
      "Epoch 31/50\n",
      "100000/100000 [==============================] - 1s 5us/sample - loss: 0.8003\n",
      "Epoch 32/50\n",
      "100000/100000 [==============================] - 1s 5us/sample - loss: 0.7987\n",
      "Epoch 33/50\n",
      "100000/100000 [==============================] - 1s 9us/sample - loss: 0.8017\n",
      "Epoch 34/50\n",
      "100000/100000 [==============================] - 1s 10us/sample - loss: 0.7996\n",
      "Epoch 35/50\n",
      "100000/100000 [==============================] - 1s 8us/sample - loss: 0.8016\n",
      "Epoch 36/50\n",
      "100000/100000 [==============================] - 1s 8us/sample - loss: 0.7989\n",
      "Epoch 37/50\n",
      "100000/100000 [==============================] - 1s 8us/sample - loss: 0.7970 0s -\n",
      "Epoch 38/50\n",
      "100000/100000 [==============================] - 1s 5us/sample - loss: 0.7951\n",
      "Epoch 39/50\n",
      "100000/100000 [==============================] - 1s 5us/sample - loss: 0.7941\n",
      "Epoch 40/50\n",
      "100000/100000 [==============================] - 1s 7us/sample - loss: 0.8000\n",
      "Epoch 41/50\n",
      "100000/100000 [==============================] - 1s 7us/sample - loss: 0.7949\n",
      "Epoch 42/50\n",
      "100000/100000 [==============================] - 1s 7us/sample - loss: 0.8022\n",
      "Epoch 43/50\n",
      "100000/100000 [==============================] - 1s 6us/sample - loss: 0.8010\n",
      "Epoch 44/50\n",
      "100000/100000 [==============================] - 1s 6us/sample - loss: 0.7955\n",
      "Epoch 45/50\n",
      "100000/100000 [==============================] - 1s 5us/sample - loss: 0.8037\n",
      "Epoch 46/50\n",
      "100000/100000 [==============================] - 1s 6us/sample - loss: 0.8033\n",
      "Epoch 47/50\n",
      "100000/100000 [==============================] - 1s 6us/sample - loss: 0.8042\n",
      "Epoch 48/50\n",
      "100000/100000 [==============================] - 1s 6us/sample - loss: 0.8010\n",
      "Epoch 49/50\n",
      "100000/100000 [==============================] - 1s 7us/sample - loss: 0.7923\n",
      "Epoch 50/50\n",
      "100000/100000 [==============================] - 1s 6us/sample - loss: 0.7995\n"
     ]
    },
    {
     "data": {
      "text/plain": [
       "<tensorflow.python.keras.callbacks.History at 0x2c33e4e94c8>"
      ]
     },
     "execution_count": 15,
     "metadata": {},
     "output_type": "execute_result"
    }
   ],
   "source": [
    "autoencoder.fit(data_one, data_one, epochs = 50, batch_size = 1024)"
   ]
  },
  {
   "cell_type": "markdown",
   "metadata": {},
   "source": [
    "#### Encoder Block"
   ]
  },
  {
   "cell_type": "code",
   "execution_count": 16,
   "metadata": {},
   "outputs": [],
   "source": [
    "encoder = Model(input_sig, encoder4)\n",
    "# encoder = Model(input_sig, encoder2)"
   ]
  },
  {
   "cell_type": "markdown",
   "metadata": {},
   "source": [
    "#### Channel Block"
   ]
  },
  {
   "cell_type": "code",
   "execution_count": 17,
   "metadata": {},
   "outputs": [],
   "source": [
    "channel_input = Input(shape = (2 * n_channel, ))\n",
    "channel_output = autoencoder.layers[-3](channel_input)\n",
    "channel = Model(channel_input, channel_output)"
   ]
  },
  {
   "cell_type": "markdown",
   "metadata": {},
   "source": [
    "#### Decoder Block"
   ]
  },
  {
   "cell_type": "code",
   "execution_count": 18,
   "metadata": {},
   "outputs": [],
   "source": [
    "decoder_input = Input(shape = (2 * n_channel, ))\n",
    "decoder_middle = autoencoder.layers[-2](decoder_input)\n",
    "decoder_output = autoencoder.layers[-1](decoder_middle)\n",
    "decoder = Model(decoder_input, decoder_output)"
   ]
  },
  {
   "cell_type": "markdown",
   "metadata": {},
   "source": [
    "#### Constellation diagram for the transmitted message"
   ]
  },
  {
   "cell_type": "code",
   "execution_count": 19,
   "metadata": {},
   "outputs": [],
   "source": [
    "scatter_plt_t = []\n",
    "\n",
    "for i in range(0, M):\n",
    "    vec = np.zeros(M)\n",
    "    vec[i] = 1\n",
    "    scatter_plt_t.append(encoder.predict(vec.reshape((1, vec.shape[0])))) #because of \"predict\" method constraint #or: np.expand_dims(vec, axis = 0) -> (1, M) \n",
    "\n",
    "scatter_plt_t = np.array(scatter_plt_t)"
   ]
  },
  {
   "cell_type": "code",
   "execution_count": 20,
   "metadata": {},
   "outputs": [
    {
     "data": {
      "text/plain": [
       "array([[[ 0.69250655,  1.233059  ]],\n",
       "\n",
       "       [[ 0.1934876 ,  1.4009148 ]],\n",
       "\n",
       "       [[-0.6436657 ,  1.2592436 ]],\n",
       "\n",
       "       [[ 1.4109061 ,  0.09666537]],\n",
       "\n",
       "       [[ 0.43797708,  1.3446845 ]],\n",
       "\n",
       "       [[-0.6851821 , -1.2371441 ]],\n",
       "\n",
       "       [[-1.4038299 , -0.17106067]],\n",
       "\n",
       "       [[ 0.86257935, -1.1206948 ]],\n",
       "\n",
       "       [[-1.2353865 , -0.6883461 ]],\n",
       "\n",
       "       [[ 1.071633  , -0.92282325]],\n",
       "\n",
       "       [[ 1.1256354 ,  0.8561219 ]],\n",
       "\n",
       "       [[ 0.12496598, -1.4086814 ]],\n",
       "\n",
       "       [[ 0.9332698 ,  1.0625477 ]],\n",
       "\n",
       "       [[ 0.39295018, -1.3585249 ]],\n",
       "\n",
       "       [[-1.2550528 ,  0.65179944]],\n",
       "\n",
       "       [[-0.9052302 ,  1.0865347 ]],\n",
       "\n",
       "       [[-1.4094899 ,  0.11549013]],\n",
       "\n",
       "       [[-1.3357152 , -0.4646128 ]],\n",
       "\n",
       "       [[ 1.2679628 ,  0.6263149 ]],\n",
       "\n",
       "       [[-1.1107899 ,  0.8752975 ]],\n",
       "\n",
       "       [[ 1.3667762 ,  0.36321163]],\n",
       "\n",
       "       [[-0.10147827,  1.4105681 ]],\n",
       "\n",
       "       [[-0.3928488 ,  1.3585542 ]],\n",
       "\n",
       "       [[ 1.340121  , -0.45174736]],\n",
       "\n",
       "       [[ 1.2253879 , -0.7059918 ]],\n",
       "\n",
       "       [[-0.40514073, -1.3549395 ]],\n",
       "\n",
       "       [[-0.14259303, -1.4070065 ]],\n",
       "\n",
       "       [[-1.0814607 , -0.9112862 ]],\n",
       "\n",
       "       [[-0.8900177 , -1.0990307 ]],\n",
       "\n",
       "       [[-1.360898  ,  0.38465112]],\n",
       "\n",
       "       [[ 1.4006628 , -0.19530374]],\n",
       "\n",
       "       [[ 0.64206165, -1.2600621 ]]], dtype=float32)"
      ]
     },
     "execution_count": 20,
     "metadata": {},
     "output_type": "execute_result"
    }
   ],
   "source": [
    "scatter_plt_t"
   ]
  },
  {
   "cell_type": "code",
   "execution_count": 21,
   "metadata": {},
   "outputs": [
    {
     "data": {
      "text/plain": [
       "(32, 1, 2)"
      ]
     },
     "execution_count": 21,
     "metadata": {},
     "output_type": "execute_result"
    }
   ],
   "source": [
    "scatter_plt_t.shape # -> (M, 1, 2*n_channel) -> But for plotting we should: (M, 2*n_channel, 1)"
   ]
  },
  {
   "cell_type": "code",
   "execution_count": 22,
   "metadata": {},
   "outputs": [
    {
     "data": {
      "image/png": "[encoded data removed]",
      "text/plain": [
       "<Figure size 432x288 with 1 Axes>"
      ]
     },
     "metadata": {
      "needs_background": "light"
     },
     "output_type": "display_data"
    }
   ],
   "source": [
    "scatter_plt_t = scatter_plt_t.reshape(M, 2*n_channel, 1)\n",
    "plt.scatter(x = scatter_plt_t[:, 0], y = scatter_plt_t[:, 1])\n",
    "plt.grid()\n",
    "plt.title('Constellation diagram for the transmitted message')\n",
    "plt.xlabel('Inphase')\n",
    "plt.ylabel('Quadrature')\n",
    "plt.show()"
   ]
  },
  {
   "cell_type": "markdown",
   "metadata": {},
   "source": [
    "#### Constellation diagram for the received message"
   ]
  },
  {
   "cell_type": "code",
   "execution_count": 23,
   "metadata": {},
   "outputs": [],
   "source": [
    "NN_channel_input = Input(shape = (M, ))\n",
    "NN_channel1 = autoencoder.layers[-7](NN_channel_input)\n",
    "NN_channel2 = autoencoder.layers[-6](NN_channel1) #inphase & quadrature\n",
    "NN_channel3 = autoencoder.layers[-5](NN_channel2)\n",
    "NN_channel4 = autoencoder.layers[-4](NN_channel3)\n",
    "NN_channel5_output = autoencoder.layers[-3](NN_channel4)\n",
    "# NN_channel5_output = autoencoder.layers[-3](NN_channel2)\n",
    "NN_channel = Model(NN_channel_input, NN_channel5_output)"
   ]
  },
  {
   "cell_type": "code",
   "execution_count": 24,
   "metadata": {},
   "outputs": [],
   "source": [
    "scatter_plt_r = []\n",
    "\n",
    "for i in range(0, M):\n",
    "    vec = np.zeros(M)\n",
    "    vec[i] = 1 \n",
    "    scatter_plt_r.append(NN_channel.predict(vec.reshape((1, vec.shape[0])))) #because of \"predict\" method constraint #or: np.expand_dims(vec, axis = 0) -> (1, M) \n",
    "\n",
    "scatter_plt_r = np.array(scatter_plt_r)"
   ]
  },
  {
   "cell_type": "code",
   "execution_count": 25,
   "metadata": {},
   "outputs": [
    {
     "data": {
      "text/plain": [
       "array([[[ 0.69250655,  1.233059  ]],\n",
       "\n",
       "       [[ 0.1934876 ,  1.4009148 ]],\n",
       "\n",
       "       [[-0.6436657 ,  1.2592436 ]],\n",
       "\n",
       "       [[ 1.4109061 ,  0.09666537]],\n",
       "\n",
       "       [[ 0.43797708,  1.3446845 ]],\n",
       "\n",
       "       [[-0.6851821 , -1.2371441 ]],\n",
       "\n",
       "       [[-1.4038299 , -0.17106067]],\n",
       "\n",
       "       [[ 0.86257935, -1.1206948 ]],\n",
       "\n",
       "       [[-1.2353865 , -0.6883461 ]],\n",
       "\n",
       "       [[ 1.071633  , -0.92282325]],\n",
       "\n",
       "       [[ 1.1256354 ,  0.8561219 ]],\n",
       "\n",
       "       [[ 0.12496598, -1.4086814 ]],\n",
       "\n",
       "       [[ 0.9332698 ,  1.0625477 ]],\n",
       "\n",
       "       [[ 0.39295018, -1.3585249 ]],\n",
       "\n",
       "       [[-1.2550528 ,  0.65179944]],\n",
       "\n",
       "       [[-0.9052302 ,  1.0865347 ]],\n",
       "\n",
       "       [[-1.4094899 ,  0.11549013]],\n",
       "\n",
       "       [[-1.3357152 , -0.4646128 ]],\n",
       "\n",
       "       [[ 1.2679628 ,  0.6263149 ]],\n",
       "\n",
       "       [[-1.1107899 ,  0.8752975 ]],\n",
       "\n",
       "       [[ 1.3667762 ,  0.36321163]],\n",
       "\n",
       "       [[-0.10147827,  1.4105681 ]],\n",
       "\n",
       "       [[-0.3928488 ,  1.3585542 ]],\n",
       "\n",
       "       [[ 1.340121  , -0.45174736]],\n",
       "\n",
       "       [[ 1.2253879 , -0.7059918 ]],\n",
       "\n",
       "       [[-0.40514073, -1.3549395 ]],\n",
       "\n",
       "       [[-0.14259303, -1.4070065 ]],\n",
       "\n",
       "       [[-1.0814607 , -0.9112862 ]],\n",
       "\n",
       "       [[-0.8900177 , -1.0990307 ]],\n",
       "\n",
       "       [[-1.360898  ,  0.38465112]],\n",
       "\n",
       "       [[ 1.4006628 , -0.19530374]],\n",
       "\n",
       "       [[ 0.64206165, -1.2600621 ]]], dtype=float32)"
      ]
     },
     "execution_count": 25,
     "metadata": {},
     "output_type": "execute_result"
    }
   ],
   "source": [
    "scatter_plt_r"
   ]
  },
  {
   "cell_type": "code",
   "execution_count": 26,
   "metadata": {},
   "outputs": [
    {
     "data": {
      "text/plain": [
       "(32, 1, 2)"
      ]
     },
     "execution_count": 26,
     "metadata": {},
     "output_type": "execute_result"
    }
   ],
   "source": [
    "scatter_plt_r.shape"
   ]
  },
  {
   "cell_type": "code",
   "execution_count": 27,
   "metadata": {},
   "outputs": [
    {
     "data": {
      "image/png": "[encoded data removed]",
      "text/plain": [
       "<Figure size 432x288 with 1 Axes>"
      ]
     },
     "metadata": {
      "needs_background": "light"
     },
     "output_type": "display_data"
    }
   ],
   "source": [
    "scatter_plt_r = scatter_plt_r.reshape(M, 2*n_channel, 1)\n",
    "plt.scatter(x = scatter_plt_r[:, 0], y = scatter_plt_r[:, 1])\n",
    "plt.grid()\n",
    "plt.title('Constellation diagram for the received message')\n",
    "plt.xlabel('Inphase')\n",
    "plt.ylabel('Quadrature')\n",
    "plt.show()"
   ]
  },
  {
   "cell_type": "markdown",
   "metadata": {},
   "source": [
    "#### Demodulated message"
   ]
  },
  {
   "cell_type": "code",
   "execution_count": 28,
   "metadata": {},
   "outputs": [],
   "source": [
    "# autoenc_input = Input(shape = (M, ))\n",
    "# autoenc1 = autoencoder.layers[-7](autoenc_input)\n",
    "# autoenc2 = autoencoder.layers[-6](autoenc1) #inphase & quadrature\n",
    "# autoenc3 = autoencoder.layers[-5](autoenc2)\n",
    "# autoenc4 = autoencoder.layers[-4](autoenc3)\n",
    "# autoenc5 = autoencoder.layers[-3](autoenc4)\n",
    "# # autoenc5 = autoencoder.layers[-3](autoenc2)\n",
    "# autoenc6 = autoencoder.layers[-2](autoenc5)\n",
    "# autoenc7 = autoencoder.layers[-1](autoenc6)\n",
    "# autoenc = Model(autoenc_input, autoenc7)"
   ]
  },
  {
   "cell_type": "code",
   "execution_count": 29,
   "metadata": {},
   "outputs": [],
   "source": [
    "output_demod = []\n",
    "\n",
    "data_ex = np.arange(0, M)\n",
    "\n",
    "for i in data_ex:\n",
    "    vec = np.zeros(M)\n",
    "    vec[i] = 1\n",
    "    output_demod.append(autoencoder.predict(vec.reshape((1, vec.shape[0])))) #because of \"predict\" method constraint #or: np.expand_dims(vec, axis = 0) -> (1, M) \n",
    "    #or: scatter_plt_d.append(autoencoder.predict(vec.reshape((1, vec.shape[0]))))\n",
    "    \n",
    "output_demod = np.array(output_demod)\n",
    "output_demod = np.argmax(output_demod, axis = 0)"
   ]
  },
  {
   "cell_type": "code",
   "execution_count": 30,
   "metadata": {},
   "outputs": [
    {
     "data": {
      "text/plain": [
       "array([[ 0,  1,  2,  3,  4,  5,  6,  7,  8,  9, 10, 11, 12, 13, 14, 15,\n",
       "        16, 17, 18, 19, 20, 21, 22, 23, 24, 25, 26, 27, 28, 29, 30, 31]],\n",
       "      dtype=int64)"
      ]
     },
     "execution_count": 30,
     "metadata": {},
     "output_type": "execute_result"
    }
   ],
   "source": [
    "output_demod #The demodulated output"
   ]
  },
  {
   "cell_type": "code",
   "execution_count": 31,
   "metadata": {
    "scrolled": true
   },
   "outputs": [
    {
     "data": {
      "text/plain": [
       "(1, 32)"
      ]
     },
     "execution_count": 31,
     "metadata": {},
     "output_type": "execute_result"
    }
   ],
   "source": [
    "output_demod.shape"
   ]
  },
  {
   "cell_type": "code",
   "execution_count": 32,
   "metadata": {},
   "outputs": [
    {
     "data": {
      "text/plain": [
       "array([ 0,  1,  2,  3,  4,  5,  6,  7,  8,  9, 10, 11, 12, 13, 14, 15, 16,\n",
       "       17, 18, 19, 20, 21, 22, 23, 24, 25, 26, 27, 28, 29, 30, 31])"
      ]
     },
     "execution_count": 32,
     "metadata": {},
     "output_type": "execute_result"
    }
   ],
   "source": [
    "data_ex #The original input (symbols)"
   ]
  },
  {
   "cell_type": "code",
   "execution_count": 33,
   "metadata": {},
   "outputs": [],
   "source": [
    "# #This is the Demodulated message which is similar as the Normalized input message i.e., bellow:\n",
    "# # bellow = scatter_plt_d\n",
    "\n",
    "# normalized_input_input = Input(shape = (M, ))\n",
    "# normalized_input1 = BatchNormalization()(normalized_input_input)\n",
    "# normalized_input2 = Lambda(lambda x: Pa / np.sqrt(2) * be.l2_normalize(x, axis = -1))(normalized_input1)\n",
    "# normalized_input= Model(normalized_input_input, normalized_input2)\n",
    "\n",
    "# symbol_normalized = normalized_input.predict(data_one)"
   ]
  },
  {
   "cell_type": "code",
   "execution_count": 34,
   "metadata": {},
   "outputs": [],
   "source": [
    "# symbol_normalized"
   ]
  },
  {
   "cell_type": "markdown",
   "metadata": {},
   "source": [
    "#### BER"
   ]
  },
  {
   "cell_type": "code",
   "execution_count": 35,
   "metadata": {},
   "outputs": [],
   "source": [
    "snr = list(np.arange(0, 20+1))\n",
    "ber = list(np.zeros(len(snr))) #or: ber = [None]*len(EbNodB_range"
   ]
  },
  {
   "cell_type": "code",
   "execution_count": 36,
   "metadata": {},
   "outputs": [
    {
     "name": "stdout",
     "output_type": "stream",
     "text": [
      "SNR: 0     BER: 0.66548\n",
      "SNR: 1     BER: 0.62968\n",
      "SNR: 2     BER: 0.58818\n",
      "SNR: 3     BER: 0.54664\n",
      "SNR: 4     BER: 0.49858\n",
      "SNR: 5     BER: 0.45098\n",
      "SNR: 6     BER: 0.39977\n",
      "SNR: 7     BER: 0.35083\n",
      "SNR: 8     BER: 0.29902\n",
      "SNR: 9     BER: 0.25271\n",
      "SNR: 10     BER: 0.20744\n",
      "SNR: 11     BER: 0.16677\n",
      "SNR: 12     BER: 0.13065\n",
      "SNR: 13     BER: 0.10031\n",
      "SNR: 14     BER: 0.07522\n",
      "SNR: 15     BER: 0.05661\n",
      "SNR: 16     BER: 0.04111\n",
      "SNR: 17     BER: 0.02898\n",
      "SNR: 18     BER: 0.02089\n",
      "SNR: 19     BER: 0.01337\n",
      "SNR: 20     BER: 0.00848\n"
     ]
    }
   ],
   "source": [
    "for i in range(0, len(snr)):\n",
    "    \n",
    "    EbNo = 10 ** (snr[i] / 10)\n",
    "    noise_std = np.sqrt(1 / (2 * R * EbNo))\n",
    "    noise_mean = 0\n",
    "    count_error = 0\n",
    "    \n",
    "    noise = np.random.randn(N, 2 * n_channel) * noise_std\n",
    "    signal_enc = encoder.predict(data_test_one)\n",
    "    noisy_signal = signal_enc + noise\n",
    "    signal_pred = decoder.predict(noisy_signal)\n",
    "    output_pred = np.argmax(signal_pred, axis=1)\n",
    "    \n",
    "    count_error = (output_pred != data_test)\n",
    "    count_error = count_error.astype(int).sum()\n",
    "    \n",
    "    ber[i] = count_error / N\n",
    "    print('SNR:', snr[i], '    BER:', ber[i])"
   ]
  },
  {
   "cell_type": "code",
   "execution_count": 43,
   "metadata": {},
   "outputs": [
    {
     "data": {
      "image/png": "[encoded data removed]",
      "text/plain": [
       "<Figure size 432x288 with 1 Axes>"
      ]
     },
     "metadata": {
      "needs_background": "light"
     },
     "output_type": "display_data"
    }
   ],
   "source": [
    "plt.plot(snr, ber, 'bo', label='Autoencoder')\n",
    "plt.grid()\n",
    "plt.title('BER plot of the test data')\n",
    "plt.yscale('log')\n",
    "plt.xlabel('SNR')\n",
    "plt.ylabel('BER') \n",
    "plt.legend(loc = 'upper right', ncol = 1)\n",
    "plt.show()"
   ]
  },
  {
   "cell_type": "code",
   "execution_count": null,
   "metadata": {},
   "outputs": [],
   "source": []
  }
 ],
 "metadata": {
  "kernelspec": {
   "display_name": "Python 3",
   "language": "python",
   "name": "python3"
  },
  "language_info": {
   "codemirror_mode": {
    "name": "ipython",
    "version": 3
   },
   "file_extension": ".py",
   "mimetype": "text/x-python",
   "name": "python",
   "nbconvert_exporter": "python",
   "pygments_lexer": "ipython3",
   "version": "3.7.7"
  }
 },
 "nbformat": 4,
 "nbformat_minor": 4
}
